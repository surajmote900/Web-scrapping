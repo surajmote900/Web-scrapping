{
 "cells": [
  {
   "cell_type": "code",
   "execution_count": 2,
   "id": "867f7f56",
   "metadata": {},
   "outputs": [],
   "source": [
    "import bs4\n",
    "import requests"
   ]
  },
  {
   "cell_type": "code",
   "execution_count": 3,
   "id": "0ad15085",
   "metadata": {},
   "outputs": [
    {
     "name": "stdout",
     "output_type": "stream",
     "text": [
      "‘Show proof of 12 lakh jobs Mr CM’ – BJP’s Kapil Mishra hits out at Delhi CM Kejriwal after RTI reveals way fewer jobs \n",
      " 27 March, 2022 \n"
     ]
    }
   ],
   "source": [
    "url = \"https://www.opindia.com/2022/03/delhi-government-jobs-rti-kejriwal-kapil-mishra/\"\n",
    "data=requests.get(url)\n",
    "soup=bs4.BeautifulSoup(data.content)\n",
    "for i in soup.find_all(\"h1\"):\n",
    "    hl = i.text\n",
    "date = soup.find_all(\"time\")[0].text\n",
    "print(hl,\"\\n\",date)\n"
   ]
  },
  {
   "cell_type": "code",
   "execution_count": 4,
   "id": "a37a8e93",
   "metadata": {},
   "outputs": [],
   "source": [
    "def opindia(ur):\n",
    "    url = ur\n",
    "    data = requests.get(url)\n",
    "    soup = bs4.BeautifulSoup(data.content)\n",
    "    for i in soup.find_all(\"h1\"):\n",
    "        hl = i.text\n",
    "\n",
    "    date = soup.find_all(\"time\")[0].text\n",
    "    return hl,date"
   ]
  },
  {
   "cell_type": "code",
   "execution_count": 5,
   "id": "e10971ad",
   "metadata": {},
   "outputs": [
    {
     "data": {
      "text/plain": [
       "('‘Show proof of 12 lakh jobs Mr CM’ – BJP’s Kapil Mishra hits out at Delhi CM Kejriwal after RTI reveals way fewer jobs',\n",
       " '27 March, 2022 ')"
      ]
     },
     "execution_count": 5,
     "metadata": {},
     "output_type": "execute_result"
    }
   ],
   "source": [
    "opindia(\"https://www.opindia.com/2022/03/delhi-government-jobs-rti-kejriwal-kapil-mishra/\")\n"
   ]
  },
  {
   "cell_type": "code",
   "execution_count": 6,
   "id": "c72f5c34",
   "metadata": {},
   "outputs": [
    {
     "data": {
      "text/plain": [
       "('Karnataka: Civic authorities demolish illegal hotel building belonging to SDPI leader',\n",
       " '27 March, 2022 ')"
      ]
     },
     "execution_count": 6,
     "metadata": {},
     "output_type": "execute_result"
    }
   ],
   "source": [
    "opindia(\"https://www.opindia.com/2022/03/karnataka-civic-body-demolish-sdpi-leader-hotel-illegal-building-udupi/\")\n"
   ]
  },
  {
   "cell_type": "code",
   "execution_count": 7,
   "id": "785275be",
   "metadata": {},
   "outputs": [
    {
     "data": {
      "text/plain": [
       "('Sympathisers of disgraced cop Sanjiv Bhatt claim that he was a Kashmiri Pandit: Here is what we know',\n",
       " '24 March, 2022 ')"
      ]
     },
     "execution_count": 7,
     "metadata": {},
     "output_type": "execute_result"
    }
   ],
   "source": [
    "opindia(\"https://www.opindia.com/2022/03/sympathisers-of-disgraced-cop-sanjiv-bhatt-claim-he-is-kashmiri-pandit/\")\n"
   ]
  },
  {
   "cell_type": "code",
   "execution_count": 8,
   "id": "1ebb0442",
   "metadata": {},
   "outputs": [],
   "source": [
    "url=\"https://timesofindia.indiatimes.com/sports\""
   ]
  },
  {
   "cell_type": "code",
   "execution_count": 9,
   "id": "aadbb102",
   "metadata": {},
   "outputs": [],
   "source": [
    "data=requests.get(url)"
   ]
  },
  {
   "cell_type": "code",
   "execution_count": 10,
   "id": "97998eb9",
   "metadata": {},
   "outputs": [],
   "source": [
    "    soup = bs4.BeautifulSoup(data.content)\n"
   ]
  },
  {
   "cell_type": "code",
   "execution_count": 11,
   "id": "5d08179f",
   "metadata": {},
   "outputs": [],
   "source": [
    "for i in soup.find_all(\"h1\",clas_=[\"off_left\"]):\n",
    "        hl = i.text"
   ]
  },
  {
   "cell_type": "code",
   "execution_count": 13,
   "id": "00cdfc41",
   "metadata": {},
   "outputs": [
    {
     "data": {
      "text/plain": [
       "'‘Show proof of 12 lakh jobs Mr CM’ – BJP’s Kapil Mishra hits out at Delhi CM Kejriwal after RTI reveals way fewer jobs'"
      ]
     },
     "execution_count": 13,
     "metadata": {},
     "output_type": "execute_result"
    }
   ],
   "source": [
    "hl"
   ]
  },
  {
   "cell_type": "code",
   "execution_count": null,
   "id": "4608e14a",
   "metadata": {},
   "outputs": [],
   "source": []
  }
 ],
 "metadata": {
  "kernelspec": {
   "display_name": "Python 3",
   "language": "python",
   "name": "python3"
  },
  "language_info": {
   "codemirror_mode": {
    "name": "ipython",
    "version": 3
   },
   "file_extension": ".py",
   "mimetype": "text/x-python",
   "name": "python",
   "nbconvert_exporter": "python",
   "pygments_lexer": "ipython3",
   "version": "3.8.8"
  }
 },
 "nbformat": 4,
 "nbformat_minor": 5
}
